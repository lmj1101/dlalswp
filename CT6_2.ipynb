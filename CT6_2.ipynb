{
  "nbformat": 4,
  "nbformat_minor": 0,
  "metadata": {
    "colab": {
      "provenance": [],
      "authorship_tag": "ABX9TyN2pZJlrHJQ+oZudOE0po/t",
      "include_colab_link": true
    },
    "kernelspec": {
      "name": "python3",
      "display_name": "Python 3"
    },
    "language_info": {
      "name": "python"
    }
  },
  "cells": [
    {
      "cell_type": "markdown",
      "metadata": {
        "id": "view-in-github",
        "colab_type": "text"
      },
      "source": [
        "<a href=\"https://colab.research.google.com/github/lmj1101/dlalswp/blob/main/CT6_2.ipynb\" target=\"_parent\"><img src=\"https://colab.research.google.com/assets/colab-badge.svg\" alt=\"Open In Colab\"/></a>"
      ]
    },
    {
      "cell_type": "code",
      "execution_count": 8,
      "metadata": {
        "colab": {
          "base_uri": "https://localhost:8080/"
        },
        "id": "bpOZedbsXv0D",
        "outputId": "e702156d-df39-40d6-bdae-0c1d1504d3ff"
      },
      "outputs": [
        {
          "output_type": "stream",
          "name": "stdout",
          "text": [
            "성적;10\n",
            "성적;10\n",
            "성적;10\n",
            "성적;10\n",
            "성적;10\n",
            "성적;10\n",
            "성적;10\n",
            "성적;10\n",
            "성적;10\n",
            "성적;10\n",
            "10.0\n"
          ]
        }
      ],
      "source": [
        "\n",
        "total = 0                                   #total값0에서 시작\n",
        "counter = 1\n",
        "while counter <= 10:                        #10번 반복해라\n",
        "       grade = int(input(\"성적;\"))          #성적을 정수로 입력하라\n",
        "       total= total + grade                 #total 입력값을 더하고 저장\n",
        "       counter = counter + 1                #반복횟수 저장\n",
        "                           \n",
        "average = total / 10                        #10로 평균값을 나눠라\n",
        "print(average)                              #averager값 출력"
      ]
    },
    {
      "cell_type": "markdown",
      "source": [
        "학생 10명의 성적을 입력받아 평균을 계산하는 알고리즘을 의사코드로 표현해 보자"
      ],
      "metadata": {
        "id": "swGA-9ggjIyh"
      }
    }
  ]
}
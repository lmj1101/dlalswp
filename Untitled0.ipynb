{
  "nbformat": 4,
  "nbformat_minor": 0,
  "metadata": {
    "colab": {
      "provenance": [],
      "toc_visible": true,
      "authorship_tag": "ABX9TyOGabqesHSnmyh4HCMXkRVU",
      "include_colab_link": true
    },
    "kernelspec": {
      "name": "python3",
      "display_name": "Python 3"
    },
    "language_info": {
      "name": "python"
    }
  },
  "cells": [
    {
      "cell_type": "markdown",
      "metadata": {
        "id": "view-in-github",
        "colab_type": "text"
      },
      "source": [
        "<a href=\"https://colab.research.google.com/github/lmj1101/dlalswp/blob/main/Untitled0.ipynb\" target=\"_parent\"><img src=\"https://colab.research.google.com/assets/colab-badge.svg\" alt=\"Open In Colab\"/></a>"
      ]
    },
    {
      "cell_type": "markdown",
      "source": [],
      "metadata": {
        "id": "wnNks0Cb0r96"
      }
    },
    {
      "cell_type": "code",
      "execution_count": null,
      "metadata": {
        "id": "sSC_RPo8wRMn"
      },
      "outputs": [],
      "source": [
        "\n",
        "n1=int(input(\"n1의 값을 입력하시오.\"))  # 사용자에게 n1을 정수형을 받아라 \n",
        "n2=int(input(\"n2의 값을 입력하시오.\"))  # 사용자에게 n2을 정수형을 받아라\n",
        "n3=int(input(\"n3의 값을 입력하시오.\"))  # 사용자에게 n3을 정수형을 받아라\n",
        "total=n1+n2+n3                          # total변수에 n1, n2, n3의 합을 저장하라\n",
        "average= total/3                        # average변수에 total을 3을 나눈 평균값을 저장하라. \n",
        "print('합=',total, '평균=',average)     # 합과 변수 total, 평균과 변수 average 값을 화면에 출력하라.\n",
        "print('힘=',total, '평균=',average)\n",
        "\n",
        "\n",
        "\n",
        "\n",
        "\n"
      ]
    },
    {
      "cell_type": "markdown",
      "source": [],
      "metadata": {
        "id": "58yb-UwU0sux"
      }
    },
    {
      "cell_type": "code",
      "source": [],
      "metadata": {
        "id": "AS0ydeSu0tCy"
      },
      "execution_count": null,
      "outputs": []
    }
  ]
}